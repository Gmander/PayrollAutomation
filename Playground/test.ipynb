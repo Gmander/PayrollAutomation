{
 "cells": [
  {
   "cell_type": "code",
   "execution_count": 20,
   "metadata": {},
   "outputs": [],
   "source": [
    "# Imports\n",
    "import pandas as pd\n",
    "import re"
   ]
  },
  {
   "cell_type": "code",
   "execution_count": 21,
   "metadata": {},
   "outputs": [],
   "source": [
    "# Opening Report file\n",
    "invo = '/home/aidan/Git/PayrollAutomation/question/WC Report CES INVO.xlsx'\n",
    "df = pd.read_excel(invo)\n",
    "# headerInfo = df.head(10)\n",
    "# print(limited)"
   ]
  },
  {
   "cell_type": "code",
   "execution_count": 22,
   "metadata": {},
   "outputs": [],
   "source": [
    "# reportCols = df[['col1']]\n",
    "# reportCols = df.head(0)\n",
    "# reportCols = df[['Unnamed: 1']]\n",
    "reportCols = df[['Unnamed: 0', 'Unnamed: 36']]\n",
    "# reportCols = df\n",
    "# print(reportCols)\n",
    "f = open(\"temp.txt\", \"w\")\n",
    "f.write(reportCols.to_string())\n",
    "f.close()"
   ]
  },
  {
   "cell_type": "markdown",
   "metadata": {},
   "source": [
    "---\n",
    "# Upload to Master"
   ]
  },
  {
   "cell_type": "code",
   "execution_count": 23,
   "metadata": {},
   "outputs": [],
   "source": [
    "# Open master file\n",
    "master = '/home/aidan/Git/PayrollAutomation/question/targetMaster.xlsx'\n",
    "tf = pd.read_excel(master, sheet_name=\"Comm Input\")\n"
   ]
  },
  {
   "cell_type": "code",
   "execution_count": 24,
   "metadata": {},
   "outputs": [],
   "source": [
    "# Filter out non-relevant columns\n",
    "# masterCols = tf # All Colls\n",
    "clientCol = 'Unnamed: 10'\n",
    "codeCol = 'Paid to Agents'\n",
    "payrollCol = 'Unnamed: 13'\n",
    "masterCols = tf[[clientCol, codeCol, payrollCol]]"
   ]
  },
  {
   "cell_type": "code",
   "execution_count": 25,
   "metadata": {},
   "outputs": [],
   "source": [
    "# Optional: Optimize code by identifying potentially relevant rows to reduce further scraping\n",
    " "
   ]
  },
  {
   "cell_type": "code",
   "execution_count": 40,
   "metadata": {},
   "outputs": [
    {
     "name": "stdout",
     "output_type": "stream",
     "text": [
      "Hall Bros Roofing & Construction                                     FL5606        4000\n"
     ]
    }
   ],
   "source": [
    "# Identify correct row for hardcoded values\n",
    "hallsRow = re.search('Hall Bros Roofing & Construction.*FL5606.*', masterCols.to_string())\n",
    "print(hallsRow[0])"
   ]
  },
  {
   "cell_type": "code",
   "execution_count": 64,
   "metadata": {},
   "outputs": [
    {
     "name": "stdout",
     "output_type": "stream",
     "text": [
      "                           Unnamed: 10 Paid to Agents Unnamed: 13\n",
      "2008  Hall Bros Roofing & Construction         FL5606        4000\n"
     ]
    }
   ],
   "source": [
    "# Identify correct row for hardcoded client name and code (Hall Bros Roofing & Construction)(FL5606)\n",
    "# search = tf[clientCol] == 'Hall Bros Roofing & Construction'\n",
    "search = tf.loc[tf[clientCol] == 'Hall Bros Roofing & Construction']\n",
    "# print(search)\n",
    "# Dumb way to get row\n",
    "criticalRow = int(search[0].to_string().split()[0])\n",
    "print(tf[criticalRow:criticalRow+1][[clientCol, codeCol, payrollCol]])"
   ]
  },
  {
   "cell_type": "code",
   "execution_count": 77,
   "metadata": {},
   "outputs": [
    {
     "name": "stdout",
     "output_type": "stream",
     "text": [
      "4000\n",
      "4001\n"
     ]
    }
   ],
   "source": [
    "# Hard coded example updating payroll\n",
    "singleCell = tf.at[criticalRow, payrollCol]\n",
    "print(singleCell)\n",
    "tf.at[criticalRow, payrollCol] = 4001\n",
    "print(tf.at[criticalRow, payrollCol])\n",
    "tf.at[criticalRow, payrollCol] = 4000\n"
   ]
  },
  {
   "cell_type": "code",
   "execution_count": 27,
   "metadata": {},
   "outputs": [],
   "source": [
    "# Update if nothing there (compare if something there.)\n",
    "fo = open('temp2.txt', \"w\")\n",
    "fo.write(masterCols.to_string())\n",
    "fo.close()"
   ]
  }
 ],
 "metadata": {
  "kernelspec": {
   "display_name": "Python 3.10.7 64-bit ('3.10.7')",
   "language": "python",
   "name": "python3"
  },
  "language_info": {
   "codemirror_mode": {
    "name": "ipython",
    "version": 3
   },
   "file_extension": ".py",
   "mimetype": "text/x-python",
   "name": "python",
   "nbconvert_exporter": "python",
   "pygments_lexer": "ipython3",
   "version": "3.10.7"
  },
  "orig_nbformat": 4,
  "vscode": {
   "interpreter": {
    "hash": "96980c08fb7e83425452c0629bf0b0824e3f94da55113755c37a1fdf5bcdef51"
   }
  }
 },
 "nbformat": 4,
 "nbformat_minor": 2
}
