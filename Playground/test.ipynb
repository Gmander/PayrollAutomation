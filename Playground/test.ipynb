{
 "cells": [
  {
   "cell_type": "code",
   "execution_count": 36,
   "metadata": {},
   "outputs": [],
   "source": [
    "# Imports\n",
    "import pandas as pd\n",
    "import re"
   ]
  },
  {
   "cell_type": "code",
   "execution_count": 37,
   "metadata": {},
   "outputs": [],
   "source": [
    "# Opening Report file\n",
    "invo = '/home/aidan/Git/PayrollAutomation/question/WC Report CES INVO.xlsx'\n",
    "df = pd.read_excel(invo)\n",
    "headerInfo = df.head(10)\n",
    "# print(limited)"
   ]
  },
  {
   "cell_type": "code",
   "execution_count": 38,
   "metadata": {},
   "outputs": [],
   "source": [
    "# Identifying section (In row with \"Group By:\")\n",
    "rowWithGroupBy = re.search(\"(\\d).*Group By:\", headerInfo.to_string())\n",
    "# Print given Nth row\n",
    "desiredRow = int(rowWithGroupBy[1])\n",
    "nthRow = df.iloc[desiredRow].to_string()"
   ]
  },
  {
   "cell_type": "code",
   "execution_count": 39,
   "metadata": {},
   "outputs": [
    {
     "name": "stdout",
     "output_type": "stream",
     "text": [
      "Branch, Customer, WC Code\n"
     ]
    }
   ],
   "source": [
    "# Find info to be grouped by (In row with \"Group By:\")\n",
    "groupResults = re.search('([A-z]+,.*)', nthRow)\n",
    "print(groupResults[0])"
   ]
  },
  {
   "cell_type": "code",
   "execution_count": 40,
   "metadata": {},
   "outputs": [],
   "source": [
    "# Identifying section (In row with \"Branch:\")\n",
    "rowWithBranch = re.search(\"(\\d).*Branch:\", headerInfo.to_string())\n",
    "# print(rowWithBranch)\n",
    "# Print given Nth row\n",
    "desiredRow = int(rowWithBranch[1])\n",
    "# print(desiredRow)\n",
    "nthRow = df.iloc[desiredRow].to_string()\n",
    "# print(nthRow)"
   ]
  },
  {
   "cell_type": "code",
   "execution_count": 41,
   "metadata": {},
   "outputs": [
    {
     "name": "stdout",
     "output_type": "stream",
     "text": [
      "CES INVO AOS, CES INVO FL\n"
     ]
    }
   ],
   "source": [
    "# Find info to be grouped by (In row with \"Branch:\")\n",
    "groupResults = re.search('\\d\\s*(.*[A-z]+,.*)', nthRow)\n",
    "print(groupResults[1])"
   ]
  },
  {
   "cell_type": "code",
   "execution_count": 42,
   "metadata": {},
   "outputs": [],
   "source": [
    "# reportCols = df[['col1']]\n",
    "# reportCols = df.head(0)\n",
    "# reportCols = df[['Unnamed: 1']]\n",
    "reportCols = df[['Unnamed: 0', 'Unnamed: 36']]\n",
    "# reportCols = df\n",
    "# print(reportCols)\n",
    "f = open(\"temp.txt\", \"w\")\n",
    "f.write(reportCols.to_string())\n",
    "f.close()"
   ]
  },
  {
   "cell_type": "markdown",
   "metadata": {},
   "source": [
    "---\n",
    "# Upload to Master"
   ]
  },
  {
   "cell_type": "code",
   "execution_count": 43,
   "metadata": {},
   "outputs": [],
   "source": [
    "# Open master file\n",
    "master = '/home/aidan/Git/PayrollAutomation/question/targetMaster.xlsx'\n",
    "tf = pd.read_excel(master, sheet_name=\"Comm Input\")\n"
   ]
  },
  {
   "cell_type": "code",
   "execution_count": 62,
   "metadata": {},
   "outputs": [],
   "source": [
    "# Filter out non-relevant columns\n",
    "# masterCols = tf # All Colls\n",
    "clientCol = 'Unnamed: 10'\n",
    "codeCol = 'Paid to Agents'\n",
    "payrollCol = 'Unnamed: 13'\n",
    "masterCols = tf[[clientCol, codeCol, payrollCol]]"
   ]
  },
  {
   "cell_type": "code",
   "execution_count": null,
   "metadata": {},
   "outputs": [],
   "source": [
    "# Optional: Optimize code by identifying potentially relevant rows to reduce further scraping\n",
    " "
   ]
  },
  {
   "cell_type": "code",
   "execution_count": 46,
   "metadata": {},
   "outputs": [],
   "source": [
    "# Hard coded example to match client name and code (Hall Bros Roofing & Construction)(FL5606)\n"
   ]
  },
  {
   "cell_type": "code",
   "execution_count": 63,
   "metadata": {},
   "outputs": [],
   "source": [
    "# Update if nothing there (compare if something there.)\n",
    "fo = open('temp2.txt', \"w\")\n",
    "fo.write(masterCols.to_string())\n",
    "fo.close()"
   ]
  }
 ],
 "metadata": {
  "kernelspec": {
   "display_name": "Python 3.10.7 64-bit ('3.10.7')",
   "language": "python",
   "name": "python3"
  },
  "language_info": {
   "codemirror_mode": {
    "name": "ipython",
    "version": 3
   },
   "file_extension": ".py",
   "mimetype": "text/x-python",
   "name": "python",
   "nbconvert_exporter": "python",
   "pygments_lexer": "ipython3",
   "version": "3.10.7"
  },
  "orig_nbformat": 4,
  "vscode": {
   "interpreter": {
    "hash": "96980c08fb7e83425452c0629bf0b0824e3f94da55113755c37a1fdf5bcdef51"
   }
  }
 },
 "nbformat": 4,
 "nbformat_minor": 2
}
