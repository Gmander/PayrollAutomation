{
 "cells": [
  {
   "cell_type": "code",
   "execution_count": 44,
   "metadata": {},
   "outputs": [],
   "source": [
    "# Imports\n",
    "import pandas as pd\n",
    "import re"
   ]
  },
  {
   "cell_type": "code",
   "execution_count": 45,
   "metadata": {},
   "outputs": [],
   "source": [
    "# Opening Report file\n",
    "invo = '/home/aidan/Git/PayrollAutomation/question/WC Report CES INVO.xlsx'\n",
    "df = pd.read_excel(invo)\n",
    "# Format (Collumn Cleanup)\n",
    "reportClientCol = 'Unnamed: 0'\n",
    "reportGrossWagesCol = 'Unnamed: 36'\n",
    "reportCols = df[[reportClientCol, reportGrossWagesCol]]"
   ]
  },
  {
   "cell_type": "code",
   "execution_count": null,
   "metadata": {},
   "outputs": [],
   "source": [
    "# Pulling relevant info\n",
    "print(reportCols.to_string())\n",
    "# Cull rows with NaN\n",
    "print(reportCols.to_string())\n"
   ]
  },
  {
   "cell_type": "code",
   "execution_count": 46,
   "metadata": {},
   "outputs": [
    {
     "name": "stdout",
     "output_type": "stream",
     "text": [
      "Customer: BR - Sherwin Williams          NaN\n",
      "17                                                     IL 4828 - Warehouse technician      2751.88\n",
      "18                                      TX 4511 - Analytical Laboratories or Assaying         4613\n",
      "19                                                   Subtotal - BR - Sherwin Williams      7364.88\n"
     ]
    }
   ],
   "source": [
    "# Regex Each instance where you have Customer ... Subtotal\n",
    "customerBlock = re.findall('(Customer(.|\\n)+?Subtotal.*)', reportCols.to_string())\n",
    "print(customerBlock[1][0])"
   ]
  },
  {
   "cell_type": "code",
   "execution_count": 54,
   "metadata": {},
   "outputs": [
    {
     "name": "stdout",
     "output_type": "stream",
     "text": [
      "BR - Sherwin Williams\n",
      "BR - Sherwin Williams\n",
      "2\n",
      "['IL 4828', 'TX 4511']\n",
      "2\n",
      "['2751.88', '4613']\n",
      "7364.88\n"
     ]
    }
   ],
   "source": [
    "# TODO Put this in a for loop to iterate through each matching block from above\n",
    "tempCustomerBlock = customerBlock[1][0]\n",
    "\n",
    "\n",
    "customerName = re.search('Customer: (.+?)  ', tempCustomerBlock)\n",
    "customerSutotalNameConfirmation = re.search('Subtotal - (.+?)  ', tempCustomerBlock)\n",
    "\n",
    "customerCodes = re.findall('(\\S{2}\\d{4}|\\S{2} \\d{4})', tempCustomerBlock)\n",
    "customerCodesQuantity = len(customerCodes)\n",
    "\n",
    "customerCosts = re.findall('(?:\\S{2}\\d{4}|\\S{2}\\s\\d{4}).+?(\\d+.\\d+)', tempCustomerBlock)\n",
    "customerCostsQuantity = len(customerCosts)\n",
    "# customerCosts = re.sub(' ', '', customerCosts[0])\n",
    "\n",
    "customerSubtotal = re.search('Subtotal.+?(\\d*|\\d*.\\d*)$', tempCustomerBlock)\n",
    "customerSubtotal = re.sub(' ', '', customerSubtotal[1])\n",
    "\n",
    "\n",
    "print(customerName[1])\n",
    "print(customerSutotalNameConfirmation[1])\n",
    "\n",
    "print(customerCodesQuantity)\n",
    "print(customerCodes)\n",
    "\n",
    "print(customerCostsQuantity)\n",
    "print(customerCosts)\n",
    "\n",
    "\n",
    "print(customerSubtotal)"
   ]
  },
  {
   "cell_type": "code",
   "execution_count": 56,
   "metadata": {},
   "outputs": [
    {
     "name": "stdout",
     "output_type": "stream",
     "text": [
      "IL4828\n",
      "TX4511\n",
      "2751.88\n",
      "4613\n"
     ]
    }
   ],
   "source": [
    "# Iterating through each match for codes and costs per code\n",
    "for x in range(customerCodesQuantity):\n",
    "    tempCustomerCodes = re.sub(' ', '', customerCodes[x])\n",
    "    print(tempCustomerCodes)\n",
    "\n",
    "for x in range(customerCostsQuantity):\n",
    "    tempCustomerCosts = re.sub(' ', '', customerCosts[x])\n",
    "    print(tempCustomerCosts)"
   ]
  },
  {
   "cell_type": "code",
   "execution_count": null,
   "metadata": {},
   "outputs": [],
   "source": [
    "customerName = re.search('Customer: (.+?)  ', customerBlock[0])\n",
    "customerSutotalNameConfirmation = re.search('Subtotal - (.+?)  ', customerBlock[0])\n",
    "\n",
    "customerCodesQuantity = re.findall('(\\S{2}\\d{4}|\\S{2} \\d{4})', customerBlock[0])\n",
    "customerCodes = re.search('(\\S{2}\\d{4}|\\S{2} \\d{4})', customerBlock[0])\n",
    "customerCodes = re.sub(' ', '', customerCodes[0])\n",
    "\n",
    "customerCosts = re.search('(\\d*|\\d*.\\d*)$', customerBlock[0])\n",
    "customerCosts = re.sub(' ', '', customerCosts[0])\n",
    "\n",
    "customerSubtotal = re.search('Subtotal.+?(\\d*|\\d*.\\d*)$', customerBlock[0])\n",
    "customerSubtotal = re.sub(' ', '', customerSubtotal[1])\n",
    "\n",
    "\n",
    "print(customerName[1])\n",
    "print(customerSutotalNameConfirmation[1])\n",
    "print(len(customerCodesQuantity))\n",
    "print(customerCodes)\n",
    "print(customerCosts)\n",
    "print(customerSubtotal)"
   ]
  },
  {
   "cell_type": "code",
   "execution_count": null,
   "metadata": {},
   "outputs": [],
   "source": [
    "# Confirm values arent errored\n",
    "\n",
    "# Customer name and subtotal name are same\n",
    "if (customerName[1] != customerSutotalNameConfirmation[1]):\n",
    "    print(\"Name mismatch error\")\n",
    "\n",
    "# Codes values add to subtotal\n",
    "aggregateCost = 0\n",
    "for x in range(len(customerCodesQuantity)):\n",
    "    print(x)\n",
    "    print(customerCosts)\n",
    "    print(customerCosts)\n",
    "    aggregateCost += int(customerCosts[x])\n",
    "    print(aggregateCost)\n",
    "if (aggregateCost != int(customerSubtotal)):\n",
    "    print(\"Aggregate doesn't match given subtotal.\")\n",
    "print(aggregateCost)\n",
    "print(customerSubtotal)"
   ]
  },
  {
   "cell_type": "code",
   "execution_count": null,
   "metadata": {},
   "outputs": [],
   "source": [
    "# Somewhere I will need to store values to search in next section."
   ]
  },
  {
   "cell_type": "code",
   "execution_count": null,
   "metadata": {},
   "outputs": [],
   "source": [
    "# Final block\n",
    "f = open(\"temp.txt\", \"w\")\n",
    "f.write(reportCols.to_string())\n",
    "f.close()"
   ]
  },
  {
   "cell_type": "markdown",
   "metadata": {},
   "source": [
    "---\n",
    "# Upload to Master"
   ]
  },
  {
   "cell_type": "code",
   "execution_count": null,
   "metadata": {},
   "outputs": [],
   "source": [
    "# Open master file\n",
    "master = '/home/aidan/Git/PayrollAutomation/question/targetMaster.xlsx'\n",
    "tf = pd.read_excel(master, sheet_name=\"Comm Input\")\n",
    "# Filter out non-relevant columns\n",
    "clientCol = 'Unnamed: 10'\n",
    "codeCol = 'Paid to Agents'\n",
    "payrollCol = 'Unnamed: 13'\n",
    "masterCols = tf[[clientCol, codeCol, payrollCol]]\n"
   ]
  },
  {
   "cell_type": "code",
   "execution_count": null,
   "metadata": {},
   "outputs": [],
   "source": [
    "# Optional: Optimize code by identifying potentially relevant rows to reduce further scraping\n",
    " "
   ]
  },
  {
   "cell_type": "code",
   "execution_count": null,
   "metadata": {},
   "outputs": [],
   "source": [
    "# Identify correct row for hardcoded values\n",
    "hallsRow2 = re.search('Hall Bros Roofing & Construction.*FL5606.*', masterCols.to_string())\n",
    "hallsRow = re.search('\\d([\\S ]+) (?=[A-z]{2}\\d{4})', masterCols.to_string()) # Maybe iteratable?\n",
    "hallsRowSpliced = re.sub('\\d* {2,}', '', hallsRow[0])\n",
    "# print(masterCols.to_string())\n",
    "print(hallsRow2[0])\n",
    "print(hallsRow[0])\n",
    "print(hallsRowSpliced)"
   ]
  },
  {
   "cell_type": "code",
   "execution_count": null,
   "metadata": {},
   "outputs": [],
   "source": [
    "# Identify correct row for hardcoded client name and code (Hall Bros Roofing & Construction)(FL5606)\n",
    "# search = tf.loc[tf[clientCol] == 'Hall Bros Roofing & Construction']\n",
    "search = tf.loc[tf[clientCol] == hallsRow[0]]\n",
    "print(search)\n",
    "# Dumb way to get row\n",
    "criticalRow = int(search[0].to_string().split()[0])\n",
    "print(tf[criticalRow:criticalRow+1][[clientCol, codeCol, payrollCol]])"
   ]
  },
  {
   "cell_type": "code",
   "execution_count": null,
   "metadata": {},
   "outputs": [],
   "source": [
    "# Hard coded example updating payroll\n",
    "singleCell = tf.at[criticalRow, payrollCol]\n",
    "print(singleCell)\n",
    "tf.at[criticalRow, payrollCol] = 4001\n",
    "print(tf.at[criticalRow, payrollCol])\n",
    "tf.at[criticalRow, payrollCol] = 4000\n"
   ]
  },
  {
   "cell_type": "code",
   "execution_count": null,
   "metadata": {},
   "outputs": [],
   "source": [
    "# Update if nothing there (compare if something there.)\n",
    "fo = open('temp2.txt', \"w\")\n",
    "fo.write(masterCols.to_string())\n",
    "fo.close()"
   ]
  }
 ],
 "metadata": {
  "kernelspec": {
   "display_name": "Python 3.10.7 64-bit ('3.10.7')",
   "language": "python",
   "name": "python3"
  },
  "language_info": {
   "codemirror_mode": {
    "name": "ipython",
    "version": 3
   },
   "file_extension": ".py",
   "mimetype": "text/x-python",
   "name": "python",
   "nbconvert_exporter": "python",
   "pygments_lexer": "ipython3",
   "version": "3.10.7"
  },
  "orig_nbformat": 4,
  "vscode": {
   "interpreter": {
    "hash": "96980c08fb7e83425452c0629bf0b0824e3f94da55113755c37a1fdf5bcdef51"
   }
  }
 },
 "nbformat": 4,
 "nbformat_minor": 2
}
